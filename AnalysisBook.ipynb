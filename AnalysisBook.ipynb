{
 "cells": [
  {
   "cell_type": "code",
   "execution_count": null,
   "metadata": {
    "pycharm": {
     "is_executing": false
    }
   },
   "outputs": [],
   "source": [
    "from HDF.HDFData import HDFArray\n",
    "import matplotlib.pyplot as plt\n",
    "import peakdetect as pkd\n",
    "import os.path\n",
    "import math\n",
    "from Analyzer import *\n",
    "from config import settings\n",
    "path = settings[\"paths\"][\"filtered\"]\n",
    "count_files = 85"
   ]
  },
  {
   "cell_type": "code",
   "execution_count": null,
   "metadata": {
    "pycharm": {
     "is_executing": false
    }
   },
   "outputs": [],
   "source": [
    "#Найдем минимальную длину интервала, которая подойдет для точного прогнозирования данных\n",
    "file = FileAnalyzer(path + '0.h5')\n",
    "length_min_interval = file.get_min_length_intervals()\n",
    "length_min_intervals_from_files = []\n",
    "for i in range(1, count_files):\n",
    "    filename = path + str(i) + '.h5'\n",
    "    file = FileAnalyzer(filename)\n",
    "    min_length = file.get_min_length_intervals()\n",
    "    length_min_intervals_from_files.append(min_length)\n",
    "    print('file = ', filename, ' with min length interval = ', min_length)\n",
    "    if file.get_min_length_intervals() < length_min_interval:\n",
    "        length_min_interval = file.get_min_length_intervals()\n",
    "print('Min length interval = ', length_min_interval)"
   ]
  },
  {
   "cell_type": "code",
   "execution_count": null,
   "metadata": {
    "pycharm": {
     "is_executing": false
    }
   },
   "outputs": [],
   "source": [
    "plt.plot(length_min_intervals_from_files)\n",
    "#График минимальных длин интервалов из полученных файлов"
   ]
  },
  {
   "cell_type": "code",
   "execution_count": null,
   "metadata": {
    "pycharm": {
     "is_executing": false
    }
   },
   "outputs": [],
   "source": [
    "average_series = sum(length_min_intervals_from_files)/count_files\n",
    "print('Среднее полученного ряда: ', average_series)"
   ]
  },
  {
   "cell_type": "code",
   "execution_count": null,
   "metadata": {
    "pycharm": {
     "is_executing": false
    }
   },
   "outputs": [],
   "source": [
    "count = 0\n",
    "for i in range(count_files):\n",
    "    filename = path + str(i) + '.h5'\n",
    "    file = FileAnalyzer(filename)\n",
    "    min_length = file.get_min_length_intervals()\n",
    "    if min_length > average_series:\n",
    "        count+=1\n",
    "print('count files = ', count)\n",
    "#Получили 33 файла из 85, что не очень положительно влияет на обучающую выборку\n",
    "#Попробуем взять медиану ряда"
   ]
  },
  {
   "cell_type": "code",
   "execution_count": null,
   "metadata": {
    "pycharm": {
     "is_executing": false
    }
   },
   "outputs": [],
   "source": [
    "median_of_series = sorted(length_min_intervals_from_files)[42] # Взяли медиану ряда\n",
    "print('Медиана полученного ряда: ', median_of_series)"
   ]
  },
  {
   "cell_type": "code",
   "execution_count": null,
   "metadata": {
    "pycharm": {
     "is_executing": false
    }
   },
   "outputs": [],
   "source": [
    "count = 0\n",
    "good_files = []\n",
    "for i in range(count_files):\n",
    "    filename = path + str(i) + '.h5'\n",
    "    file = FileAnalyzer(filename)\n",
    "    min_length = file.get_min_length_intervals()\n",
    "    if min_length > median_of_series and file.is_good_file():\n",
    "        good_files.append(str(i)+'.h5')\n",
    "print('Count good files = ', len(good_files))\n",
    "#Здесь уже видим, что нам подходят 42 файла с минимальной длинной интервала 66.\n",
    "#Также три файла говорят о некорректности данных, хранящихся в них."
   ]
  },
  {
   "cell_type": "code",
   "execution_count": null,
   "metadata": {
    "pycharm": {
     "is_executing": false
    }
   },
   "outputs": [],
   "source": [
    "print(good_files)"
   ]
  },
  {
   "cell_type": "code",
   "execution_count": null,
   "metadata": {
    "pycharm": {
     "is_executing": false
    }
   },
   "outputs": [],
   "source": [
    "count_all_intervals = 0\n",
    "for filename in good_files:\n",
    "    file = FileAnalyzer(path + filename)\n",
    "    count_all_intervals += len(file.get_intervals())\n",
    "print('Всего интервалов во всех подходящих файлах: ', count_all_intervals)"
   ]
  },
  {
   "cell_type": "code",
   "execution_count": null,
   "metadata": {
    "pycharm": {
     "is_executing": false
    }
   },
   "outputs": [],
   "source": [
    "count_files_for_train = int(len(good_files) * 0.9)\n",
    "count_files_for_test = len(good_files) - count_files_for_train\n",
    "print('Файлов для обучения: ', count_files_for_train)\n",
    "print('Файлов для проверки: ', count_files_for_test)"
   ]
  },
  {
   "cell_type": "code",
   "execution_count": null,
   "metadata": {
    "pycharm": {
     "is_executing": true,
     "name": "#%%\n"
    }
   },
   "outputs": [
    {
     "name": "stdout",
     "text": [
      "ERROR len track =  1  len interval =  10000000000.0\n"
     ],
     "output_type": "stream"
    }
   ],
   "source": [
    "# Сделаем датасет train\n",
    "import csv\n",
    "import struct\n",
    "path_to_train = settings[\"paths\"][\"train\"]\n",
    "id_file = 0\n",
    "y = []\n",
    "id_begin_interval = 0\n",
    "for i in range(count_files_for_train):\n",
    "    filename = good_files[i]\n",
    "    file = FileAnalyzer(path + filename)\n",
    "    count_intervals = len(file.get_intervals())\n",
    "    if (len(y) == 0):\n",
    "        res = file.trim_intervals_and_save(path_to_train,id_begin_interval, median_of_series)\n",
    "        y = res\n",
    "        id_begin_interval += len(y)\n",
    "    else:\n",
    "        res = file.trim_intervals_and_save(path_to_train,id_begin_interval, median_of_series)\n",
    "        y = np.vstack((y, res))\n",
    "        id_begin_interval += len(y)\n",
    "    id_file += 1\n",
    "\n",
    "filename = path_to_train +'y.csv'\n",
    "with open(filename, \"w\", newline='') as out_file:\n",
    "    writer = csv.writer(out_file, delimiter=';')\n",
    "    writer.writerows(y)\n",
    "\n",
    "\n",
    "\n"
   ]
  }
 ],
 "metadata": {
  "kernelspec": {
   "display_name": "Python 3",
   "language": "python",
   "name": "python3"
  },
  "language_info": {
   "codemirror_mode": {
    "name": "ipython",
    "version": 3
   },
   "file_extension": ".py",
   "mimetype": "text/x-python",
   "name": "python",
   "nbconvert_exporter": "python",
   "pygments_lexer": "ipython3",
   "version": "3.8.0"
  },
  "pycharm": {
   "stem_cell": {
    "cell_type": "raw",
    "source": [],
    "metadata": {
     "collapsed": false
    }
   }
  }
 },
 "nbformat": 4,
 "nbformat_minor": 4
}