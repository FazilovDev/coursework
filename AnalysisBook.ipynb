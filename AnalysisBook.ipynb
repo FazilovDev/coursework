{
 "cells": [
  {
   "cell_type": "code",
   "execution_count": 1,
   "metadata": {},
   "outputs": [],
   "source": [
    "from HDF.HDFData import HDFArray\n",
    "import matplotlib.pyplot as plt\n",
    "import peakdetect as pkd\n",
    "import os.path\n",
    "import math\n",
    "from Analyzer import *\n",
    "path = './FilteredData/'\n",
    "count_files = 85"
   ]
  },
  {
   "cell_type": "code",
   "execution_count": 2,
   "metadata": {},
   "outputs": [
    {
     "name": "stdout",
     "output_type": "stream",
     "text": [
      "file =  ./FilteredData/1.h5  with min length interval =  80\n",
      "file =  ./FilteredData/2.h5  with min length interval =  47\n",
      "file =  ./FilteredData/3.h5  with min length interval =  37\n",
      "file =  ./FilteredData/4.h5  with min length interval =  90\n",
      "file =  ./FilteredData/5.h5  with min length interval =  68\n",
      "file =  ./FilteredData/6.h5  with min length interval =  58\n",
      "file =  ./FilteredData/7.h5  with min length interval =  62\n",
      "file =  ./FilteredData/8.h5  with min length interval =  65\n",
      "file =  ./FilteredData/9.h5  with min length interval =  148\n",
      "file =  ./FilteredData/10.h5  with min length interval =  131\n",
      "file =  ./FilteredData/11.h5  with min length interval =  49\n",
      "file =  ./FilteredData/12.h5  with min length interval =  35\n",
      "file =  ./FilteredData/13.h5  with min length interval =  64\n",
      "file =  ./FilteredData/14.h5  with min length interval =  54\n",
      "file =  ./FilteredData/15.h5  with min length interval =  42\n",
      "file =  ./FilteredData/16.h5  with min length interval =  48\n",
      "file =  ./FilteredData/17.h5  with min length interval =  124\n",
      "file =  ./FilteredData/18.h5  with min length interval =  17\n",
      "file =  ./FilteredData/19.h5  with min length interval =  63\n",
      "file =  ./FilteredData/20.h5  with min length interval =  32\n",
      "file =  ./FilteredData/21.h5  with min length interval =  58\n",
      "file =  ./FilteredData/22.h5  with min length interval =  13\n",
      "file =  ./FilteredData/23.h5  with min length interval =  39\n",
      "file =  ./FilteredData/24.h5  with min length interval =  142\n",
      "file =  ./FilteredData/25.h5  with min length interval =  140\n",
      "file =  ./FilteredData/26.h5  with min length interval =  122\n",
      "ERROR len track =  1  len interval =  10000000000.0\n",
      "file =  ./FilteredData/27.h5  with min length interval =  1\n",
      "ERROR len track =  1  len interval =  10000000000.0\n",
      "file =  ./FilteredData/28.h5  with min length interval =  1\n",
      "file =  ./FilteredData/29.h5  with min length interval =  22\n",
      "file =  ./FilteredData/30.h5  with min length interval =  71\n",
      "file =  ./FilteredData/31.h5  with min length interval =  66\n",
      "file =  ./FilteredData/32.h5  with min length interval =  144\n",
      "file =  ./FilteredData/33.h5  with min length interval =  136\n",
      "file =  ./FilteredData/34.h5  with min length interval =  51\n",
      "file =  ./FilteredData/35.h5  with min length interval =  135\n",
      "file =  ./FilteredData/36.h5  with min length interval =  71\n",
      "file =  ./FilteredData/37.h5  with min length interval =  136\n",
      "file =  ./FilteredData/38.h5  with min length interval =  147\n",
      "file =  ./FilteredData/39.h5  with min length interval =  73\n",
      "file =  ./FilteredData/40.h5  with min length interval =  53\n",
      "file =  ./FilteredData/41.h5  with min length interval =  23\n",
      "file =  ./FilteredData/42.h5  with min length interval =  43\n",
      "file =  ./FilteredData/43.h5  with min length interval =  57\n",
      "file =  ./FilteredData/44.h5  with min length interval =  144\n",
      "file =  ./FilteredData/45.h5  with min length interval =  137\n",
      "file =  ./FilteredData/46.h5  with min length interval =  61\n",
      "file =  ./FilteredData/47.h5  with min length interval =  57\n",
      "file =  ./FilteredData/48.h5  with min length interval =  23\n",
      "file =  ./FilteredData/49.h5  with min length interval =  27\n",
      "ERROR len track =  1  len interval =  10000000000.0\n",
      "file =  ./FilteredData/50.h5  with min length interval =  1\n",
      "file =  ./FilteredData/51.h5  with min length interval =  149\n",
      "file =  ./FilteredData/52.h5  with min length interval =  144\n",
      "file =  ./FilteredData/53.h5  with min length interval =  71\n",
      "file =  ./FilteredData/54.h5  with min length interval =  65\n",
      "file =  ./FilteredData/55.h5  with min length interval =  61\n",
      "file =  ./FilteredData/56.h5  with min length interval =  74\n",
      "file =  ./FilteredData/57.h5  with min length interval =  2\n",
      "file =  ./FilteredData/58.h5  with min length interval =  121\n",
      "file =  ./FilteredData/59.h5  with min length interval =  146\n",
      "file =  ./FilteredData/60.h5  with min length interval =  151\n",
      "file =  ./FilteredData/61.h5  with min length interval =  49\n",
      "file =  ./FilteredData/62.h5  with min length interval =  34\n",
      "file =  ./FilteredData/63.h5  with min length interval =  135\n",
      "file =  ./FilteredData/64.h5  with min length interval =  147\n",
      "file =  ./FilteredData/65.h5  with min length interval =  16\n",
      "file =  ./FilteredData/66.h5  with min length interval =  152\n",
      "file =  ./FilteredData/67.h5  with min length interval =  59\n",
      "file =  ./FilteredData/68.h5  with min length interval =  51\n",
      "file =  ./FilteredData/69.h5  with min length interval =  56\n",
      "file =  ./FilteredData/70.h5  with min length interval =  65\n",
      "file =  ./FilteredData/71.h5  with min length interval =  135\n",
      "file =  ./FilteredData/72.h5  with min length interval =  149\n",
      "file =  ./FilteredData/73.h5  with min length interval =  64\n",
      "file =  ./FilteredData/74.h5  with min length interval =  58\n",
      "file =  ./FilteredData/75.h5  with min length interval =  73\n",
      "file =  ./FilteredData/76.h5  with min length interval =  28\n",
      "file =  ./FilteredData/77.h5  with min length interval =  50\n",
      "file =  ./FilteredData/78.h5  with min length interval =  145\n",
      "file =  ./FilteredData/79.h5  with min length interval =  141\n",
      "file =  ./FilteredData/80.h5  with min length interval =  64\n",
      "file =  ./FilteredData/81.h5  with min length interval =  100\n",
      "file =  ./FilteredData/82.h5  with min length interval =  146\n",
      "file =  ./FilteredData/83.h5  with min length interval =  92\n",
      "file =  ./FilteredData/84.h5  with min length interval =  101\n",
      "Min length interval =  1\n"
     ]
    }
   ],
   "source": [
    "#Найдем минимальную длину интервала, которая подойдет для точного прогнозирования данных\n",
    "file = FileAnalyzer(path + '0.h5')\n",
    "length_min_interval = file.get_min_length_intervals()\n",
    "length_min_intervals_from_files = []\n",
    "max_lenght_interval = 0\n",
    "for i in range(1, count_files):\n",
    "    filename = path + str(i) + '.h5'\n",
    "    file = FileAnalyzer(filename)\n",
    "    min_length = file.get_min_length_intervals()\n",
    "    length_min_intervals_from_files.append(min_length)\n",
    "    print('file = ', filename, ' with min length interval = ', min_length)\n",
    "    if file.get_min_length_intervals() < length_min_interval:\n",
    "        length_min_interval = file.get_min_length_intervals()\n",
    "\n",
    "print('Min length interval = ', length_min_interval)"
   ]
  },
  {
   "cell_type": "code",
   "execution_count": 3,
   "metadata": {},
   "outputs": [
    {
     "data": {
      "text/plain": [
       "[<matplotlib.lines.Line2D at 0x1017b058>]"
      ]
     },
     "execution_count": 3,
     "metadata": {},
     "output_type": "execute_result"
    },
    {
     "data": {
      "image/png": "[encoded data removed]",
      "text/plain": [
       "<Figure size 432x288 with 1 Axes>"
      ]
     },
     "metadata": {
      "needs_background": "light"
     },
     "output_type": "display_data"
    }
   ],
   "source": [
    "plt.plot(length_min_intervals_from_files)\n",
    "#График минимальных длин интервалов из полученных файлов"
   ]
  },
  {
   "cell_type": "code",
   "execution_count": 4,
   "metadata": {},
   "outputs": [
    {
     "name": "stdout",
     "output_type": "stream",
     "text": [
      "Среднее полученного ряда:  77.67058823529412\n"
     ]
    }
   ],
   "source": [
    "average_series = sum(length_min_intervals_from_files)/count_files\n",
    "print('Среднее полученного ряда: ', average_series)"
   ]
  },
  {
   "cell_type": "code",
   "execution_count": 5,
   "metadata": {},
   "outputs": [
    {
     "name": "stdout",
     "output_type": "stream",
     "text": [
      "ERROR len track =  1  len interval =  10000000000.0\n",
      "ERROR len track =  1  len interval =  10000000000.0\n",
      "ERROR len track =  1  len interval =  10000000000.0\n",
      "count files =  32\n"
     ]
    }
   ],
   "source": [
    "count = 0\n",
    "for i in range(count_files):\n",
    "    filename = path + str(i) + '.h5'\n",
    "    file = FileAnalyzer(filename)\n",
    "    min_length = file.get_min_length_intervals()\n",
    "    if min_length > average_series:\n",
    "        count+=1\n",
    "print('count files = ', count)\n",
    "#Получили 33 файла из 85, что не очень положительно влияет на обучающую выборку\n",
    "#Попробуем взять медиану ряда"
   ]
  },
  {
   "cell_type": "code",
   "execution_count": 6,
   "metadata": {},
   "outputs": [
    {
     "name": "stdout",
     "output_type": "stream",
     "text": [
      "Медиана полученного ряда:  65\n"
     ]
    }
   ],
   "source": [
    "median_of_series = sorted(length_min_intervals_from_files)[42] # Взяли медиану ряда\n",
    "print('Медиана полученного ряда: ', median_of_series)"
   ]
  },
  {
   "cell_type": "code",
   "execution_count": 7,
   "metadata": {},
   "outputs": [
    {
     "name": "stdout",
     "output_type": "stream",
     "text": [
      "ERROR len track =  1  len interval =  10000000000.0\n",
      "ERROR len track =  1  len interval =  10000000000.0\n",
      "ERROR len track =  1  len interval =  10000000000.0\n",
      "Count good files =  35\n"
     ]
    }
   ],
   "source": [
    "count = 0\n",
    "good_files = []\n",
    "for i in range(count_files):\n",
    "    filename = path + str(i) + '.h5'\n",
    "    file = FileAnalyzer(filename)\n",
    "    min_length = file.get_min_length_intervals()\n",
    "    if min_length > median_of_series and file.is_good_file():\n",
    "        good_files.append(str(i)+'.h5')\n",
    "print('Count good files = ', len(good_files))\n",
    "#Здесь уже видим, что нам подходят 35 файла с минимальной длинной интервала 66.\n",
    "#Также три файла говорят о некорректности данных, хранящихся в них."
   ]
  },
  {
   "cell_type": "code",
   "execution_count": 8,
   "metadata": {},
   "outputs": [
    {
     "name": "stdout",
     "output_type": "stream",
     "text": [
      "['1.h5', '5.h5', '9.h5', '10.h5', '17.h5', '24.h5', '25.h5', '30.h5', '31.h5', '32.h5', '33.h5', '35.h5', '36.h5', '37.h5', '38.h5', '39.h5', '44.h5', '45.h5', '51.h5', '52.h5', '53.h5', '56.h5', '58.h5', '59.h5', '60.h5', '63.h5', '64.h5', '66.h5', '71.h5', '72.h5', '75.h5', '78.h5', '79.h5', '81.h5', '84.h5']\n"
     ]
    }
   ],
   "source": [
    "print(good_files)"
   ]
  },
  {
   "cell_type": "code",
   "execution_count": 17,
   "metadata": {},
   "outputs": [
    {
     "name": "stdout",
     "output_type": "stream",
     "text": [
      "Всего интервалов во всех подходящих файлах:  4018\n",
      "Файл с наибольшим числом интервалов:  39.h5\n"
     ]
    }
   ],
   "source": [
    "count_all_intervals = 0\n",
    "max_intervals = 0\n",
    "name_file = \"\"\n",
    "for filename in good_files:\n",
    "    file = FileAnalyzer(path + filename)\n",
    "    count = len(file.get_intervals())\n",
    "    if count > max_intervals:\n",
    "        max_intervals = count\n",
    "        name_file = filename\n",
    "    count_all_intervals += count\n",
    "print('Всего интервалов во всех подходящих файлах: ', count_all_intervals)\n",
    "print('Файл с наибольшим числом интервалов: ', name_file)"
   ]
  },
  {
   "cell_type": "code",
   "execution_count": 18,
   "metadata": {},
   "outputs": [
    {
     "name": "stdout",
     "output_type": "stream",
     "text": [
      "284\n"
     ]
    }
   ],
   "source": [
    "print(max_intervals)"
   ]
  },
  {
   "cell_type": "code",
   "execution_count": 10,
   "metadata": {},
   "outputs": [
    {
     "name": "stdout",
     "output_type": "stream",
     "text": [
      "Файлов для обучения:  31\n",
      "Файлов для проверки:  4\n"
     ]
    }
   ],
   "source": [
    "count_files_for_train = int(len(good_files) * 0.9)\n",
    "count_files_for_test = len(good_files) - count_files_for_train\n",
    "print('Файлов для обучения: ', count_files_for_train)\n",
    "print('Файлов для проверки: ', count_files_for_test)"
   ]
  },
  {
   "cell_type": "code",
   "execution_count": 11,
   "metadata": {},
   "outputs": [
    {
     "name": "stdout",
     "output_type": "stream",
     "text": [
      "good file is  1.h5\n",
      "30 interval =  66\n",
      "29 interval =  66\n",
      "28 interval =  66\n",
      "27 interval =  66\n",
      "26 interval =  66\n",
      "25 interval =  66\n",
      "24 interval =  66\n",
      "23 interval =  66\n",
      "22 interval =  66\n",
      "21 interval =  66\n",
      "20 interval =  66\n",
      "19 interval =  66\n",
      "18 interval =  66\n",
      "17 interval =  66\n",
      "16 interval =  66\n",
      "15 interval =  66\n",
      "14 interval =  66\n",
      "13 interval =  66\n",
      "12 interval =  66\n",
      "11 interval =  66\n",
      "10 interval =  66\n",
      "9 interval =  66\n",
      "8 interval =  66\n",
      "7 interval =  66\n",
      "6 interval =  66\n",
      "5 interval =  66\n",
      "4 interval =  66\n",
      "3 interval =  66\n",
      "2 interval =  66\n",
      "1 interval =  66\n",
      "0 interval =  66\n",
      "-1 interval =  66\n",
      "-2 interval =  66\n",
      "-3 interval =  66\n",
      "-4 interval =  66\n",
      "-5 interval =  66\n",
      "-6 interval =  66\n",
      "-7 interval =  66\n",
      "-8 interval =  66\n",
      "-9 interval =  66\n",
      "-10 interval =  66\n",
      "-11 interval =  66\n",
      "-12 interval =  66\n",
      "-13 interval =  66\n",
      "-14 interval =  66\n",
      "-15 interval =  66\n",
      "-16 interval =  66\n",
      "-17 interval =  66\n",
      "-18 interval =  66\n",
      "-19 interval =  66\n",
      "-20 interval =  66\n",
      "-21 interval =  66\n",
      "-22 interval =  66\n",
      "-23 interval =  66\n",
      "-24 interval =  66\n",
      "-25 interval =  66\n",
      "-26 interval =  66\n",
      "-27 interval =  66\n",
      "-28 interval =  66\n",
      "-29 interval =  66\n",
      "-30 interval =  66\n",
      "-31 interval =  66\n",
      "-32 interval =  66\n",
      "-33 interval =  66\n",
      "-34 interval =  66\n",
      "-35 interval =  66\n",
      "-36 interval =  66\n",
      "-37 interval =  66\n",
      "-38 interval =  66\n",
      "-39 interval =  66\n",
      "-40 interval =  66\n",
      "-41 interval =  66\n",
      "-42 interval =  66\n",
      "-43 interval =  66\n",
      "-44 interval =  66\n",
      "-45 interval =  66\n",
      "-46 interval =  66\n",
      "-47 interval =  66\n",
      "-48 interval =  66\n",
      "-49 interval =  66\n",
      "-50 interval =  66\n",
      "-51 interval =  66\n",
      "-52 interval =  66\n",
      "-53 interval =  66\n",
      "-54 interval =  66\n",
      "-55 interval =  66\n",
      "-56 interval =  66\n",
      "-57 interval =  66\n",
      "-58 interval =  66\n",
      "-59 interval =  66\n",
      "-60 interval =  66\n"
     ]
    }
   ],
   "source": [
    "intervals_good = []\n",
    "count = 30\n",
    "flag = True\n",
    "for i in range(len(good_files)):\n",
    "    if (flag == False):\n",
    "        break\n",
    "    filename = good_files[i]\n",
    "    file = FileAnalyzer(path + filename)\n",
    "    if (file.is_good_file()):\n",
    "        intervals = file.get_intervals()\n",
    "        print('good file is ', filename)\n",
    "        for interval in intervals:\n",
    "            if (interval.is_good()):\n",
    "                interval.trim(0, 66)\n",
    "                print(count, 'interval = ', interval.get_length())\n",
    "                intervals_good.append(interval.eeg)\n",
    "                count -=1\n",
    "                if count == 0:\n",
    "                    flag = False"
   ]
  },
  {
   "cell_type": "code",
   "execution_count": 41,
   "metadata": {},
   "outputs": [
    {
     "ename": "TypeError",
     "evalue": "plot() missing 1 required positional argument: 'ys'",
     "output_type": "error",
     "traceback": [
      "\u001b[1;31m---------------------------------------------------------------------------\u001b[0m",
      "\u001b[1;31mTypeError\u001b[0m                                 Traceback (most recent call last)",
      "\u001b[1;32m<ipython-input-41-1196e97e126b>\u001b[0m in \u001b[0;36m<module>\u001b[1;34m\u001b[0m\n\u001b[0;32m      4\u001b[0m \u001b[0mY\u001b[0m \u001b[1;33m=\u001b[0m \u001b[1;33m[\u001b[0m\u001b[1;36m0.5\u001b[0m\u001b[1;33m,\u001b[0m \u001b[1;36m1.4\u001b[0m\u001b[1;33m,\u001b[0m \u001b[1;36m2.7\u001b[0m\u001b[1;33m]\u001b[0m\u001b[1;33m\u001b[0m\u001b[1;33m\u001b[0m\u001b[0m\n\u001b[0;32m      5\u001b[0m \u001b[0mZ\u001b[0m \u001b[1;33m=\u001b[0m \u001b[1;33m[\u001b[0m\u001b[1;36m0.4\u001b[0m\u001b[1;33m,\u001b[0m \u001b[1;36m0.8\u001b[0m\u001b[1;33m,\u001b[0m \u001b[1;36m1\u001b[0m\u001b[1;33m]\u001b[0m\u001b[1;33m\u001b[0m\u001b[1;33m\u001b[0m\u001b[0m\n\u001b[1;32m----> 6\u001b[1;33m \u001b[0mAxes3D\u001b[0m\u001b[1;33m.\u001b[0m\u001b[0mplot\u001b[0m\u001b[1;33m(\u001b[0m\u001b[0mX\u001b[0m\u001b[1;33m,\u001b[0m \u001b[0mY\u001b[0m\u001b[1;33m)\u001b[0m\u001b[1;33m\u001b[0m\u001b[1;33m\u001b[0m\u001b[0m\n\u001b[0m",
      "\u001b[1;31mTypeError\u001b[0m: plot() missing 1 required positional argument: 'ys'"
     ]
    }
   ],
   "source": [
    "import matplotlib.pyplot as plt\n",
    "from mpl_toolkits.mplot3d import Axes3D\n",
    "X = [1,2,3]\n",
    "Y = [0.5, 1.4, 2.7]\n",
    "Z = [0.4, 0.8, 1]\n",
    "Axes3D.plot(X, Y)"
   ]
  },
  {
   "cell_type": "code",
   "execution_count": 15,
   "metadata": {},
   "outputs": [],
   "source": [
    "# Сделаем датасет train\n",
    "import csv\n",
    "import struct\n",
    "path_to_train = \".\\\\dataset\\\\train\\\\\"\n",
    "id_file = 0\n",
    "y = []\n",
    "for i in range(count_files_for_train):\n",
    "    filename = good_files[i]\n",
    "    file = FileAnalyzer(path + filename)\n",
    "    intervals = file.get_intervals()\n",
    "    for interval in intervals:\n",
    "        charact = interval.get_characteristics()\n",
    "        if (charact is None or charact[0] == 0):\n",
    "            continue\n",
    "        interval.trim(0, 66)\n",
    "        interval.save_to_csv(path_to_train + str(id_file)+'.csv')\n",
    "        y_cur = [charact[0], charact[1]]\n",
    "        y.append(y_cur)\n",
    "        id_file+=1\n",
    "\n",
    "filename = path_to_train +'y.csv'\n",
    "with open(filename, \"w\", newline='') as out_file:\n",
    "    writer = csv.writer(out_file, delimiter=';')\n",
    "    writer.writerows(y)"
   ]
  },
  {
   "cell_type": "code",
   "execution_count": 16,
   "metadata": {},
   "outputs": [],
   "source": [
    "# Сделаем датасет test\n",
    "import csv\n",
    "import struct\n",
    "path_to_train = \".\\\\dataset\\\\test\\\\\"\n",
    "id_file = 0\n",
    "y = []\n",
    "for i in range(count_files_for_train,len(good_files) ):\n",
    "    filename = good_files[i]\n",
    "    file = FileAnalyzer(path + filename)\n",
    "    intervals = file.get_intervals()\n",
    "    for interval in intervals:\n",
    "        charact = interval.get_characteristics()\n",
    "        if (charact is None or charact[0] == 0):\n",
    "            continue\n",
    "        interval.trim(0, 66)\n",
    "        interval.save_to_csv(path_to_train + str(id_file)+'.csv')\n",
    "        y_cur = [charact[0], charact[1]]\n",
    "        y.append(y_cur)\n",
    "        id_file+=1\n",
    "\n",
    "filename = path_to_train +'y.csv'\n",
    "with open(filename, \"w\", newline='') as out_file:\n",
    "    writer = csv.writer(out_file, delimiter=';')\n",
    "    writer.writerows(y)"
   ]
  },
  {
   "cell_type": "code",
   "execution_count": null,
   "metadata": {},
   "outputs": [],
   "source": []
  }
 ],
 "metadata": {
  "kernelspec": {
   "display_name": "Python 3",
   "language": "python",
   "name": "python3"
  },
  "language_info": {
   "codemirror_mode": {
    "name": "ipython",
    "version": 3
   },
   "file_extension": ".py",
   "mimetype": "text/x-python",
   "name": "python",
   "nbconvert_exporter": "python",
   "pygments_lexer": "ipython3",
   "version": "3.8.0"
  }
 },
 "nbformat": 4,
 "nbformat_minor": 4
}
