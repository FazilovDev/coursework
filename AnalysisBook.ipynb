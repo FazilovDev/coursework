{
 "cells": [
  {
   "cell_type": "code",
   "execution_count": 1,
   "metadata": {},
   "outputs": [],
   "source": [
    "from HDF.HDFData import HDFArray\n",
    "import matplotlib.pyplot as plt\n",
    "import peakdetect as pkd\n",
    "import os.path\n",
    "import math\n",
    "from Analyzer import *\n",
    "path = './FilteredData/'\n",
    "count_files = 85"
   ]
  },
  {
   "cell_type": "code",
   "execution_count": 2,
   "metadata": {},
   "outputs": [
    {
     "name": "stdout",
     "output_type": "stream",
     "text": [
      "file =  ./FilteredData/1.h5  with min length interval =  80\n",
      "file =  ./FilteredData/2.h5  with min length interval =  47\n",
      "file =  ./FilteredData/3.h5  with min length interval =  37\n",
      "file =  ./FilteredData/4.h5  with min length interval =  90\n",
      "file =  ./FilteredData/5.h5  with min length interval =  68\n",
      "file =  ./FilteredData/6.h5  with min length interval =  58\n",
      "file =  ./FilteredData/7.h5  with min length interval =  62\n",
      "file =  ./FilteredData/8.h5  with min length interval =  65\n",
      "file =  ./FilteredData/9.h5  with min length interval =  148\n",
      "file =  ./FilteredData/10.h5  with min length interval =  131\n",
      "file =  ./FilteredData/11.h5  with min length interval =  49\n",
      "file =  ./FilteredData/12.h5  with min length interval =  35\n",
      "file =  ./FilteredData/13.h5  with min length interval =  64\n",
      "file =  ./FilteredData/14.h5  with min length interval =  54\n",
      "file =  ./FilteredData/15.h5  with min length interval =  42\n",
      "file =  ./FilteredData/16.h5  with min length interval =  48\n",
      "file =  ./FilteredData/17.h5  with min length interval =  124\n",
      "file =  ./FilteredData/18.h5  with min length interval =  17\n",
      "file =  ./FilteredData/19.h5  with min length interval =  63\n",
      "file =  ./FilteredData/20.h5  with min length interval =  32\n",
      "file =  ./FilteredData/21.h5  with min length interval =  58\n",
      "file =  ./FilteredData/22.h5  with min length interval =  13\n",
      "file =  ./FilteredData/23.h5  with min length interval =  39\n",
      "file =  ./FilteredData/24.h5  with min length interval =  142\n",
      "file =  ./FilteredData/25.h5  with min length interval =  140\n",
      "file =  ./FilteredData/26.h5  with min length interval =  122\n",
      "ERROR len track =  1  len interval =  10000000000.0\n",
      "file =  ./FilteredData/27.h5  with min length interval =  103\n",
      "ERROR len track =  1  len interval =  10000000000.0\n",
      "file =  ./FilteredData/28.h5  with min length interval =  81\n",
      "file =  ./FilteredData/29.h5  with min length interval =  22\n",
      "file =  ./FilteredData/30.h5  with min length interval =  71\n",
      "file =  ./FilteredData/31.h5  with min length interval =  66\n",
      "file =  ./FilteredData/32.h5  with min length interval =  144\n",
      "file =  ./FilteredData/33.h5  with min length interval =  136\n",
      "file =  ./FilteredData/34.h5  with min length interval =  51\n",
      "file =  ./FilteredData/35.h5  with min length interval =  135\n",
      "file =  ./FilteredData/36.h5  with min length interval =  71\n",
      "file =  ./FilteredData/37.h5  with min length interval =  136\n",
      "file =  ./FilteredData/38.h5  with min length interval =  147\n",
      "file =  ./FilteredData/39.h5  with min length interval =  73\n",
      "file =  ./FilteredData/40.h5  with min length interval =  53\n",
      "file =  ./FilteredData/41.h5  with min length interval =  23\n",
      "file =  ./FilteredData/42.h5  with min length interval =  43\n",
      "file =  ./FilteredData/43.h5  with min length interval =  57\n",
      "file =  ./FilteredData/44.h5  with min length interval =  144\n",
      "file =  ./FilteredData/45.h5  with min length interval =  137\n",
      "file =  ./FilteredData/46.h5  with min length interval =  61\n",
      "file =  ./FilteredData/47.h5  with min length interval =  57\n",
      "file =  ./FilteredData/48.h5  with min length interval =  23\n",
      "file =  ./FilteredData/49.h5  with min length interval =  27\n",
      "ERROR len track =  1  len interval =  10000000000.0\n",
      "file =  ./FilteredData/50.h5  with min length interval =  145\n",
      "file =  ./FilteredData/51.h5  with min length interval =  149\n",
      "file =  ./FilteredData/52.h5  with min length interval =  144\n",
      "file =  ./FilteredData/53.h5  with min length interval =  71\n",
      "file =  ./FilteredData/54.h5  with min length interval =  65\n",
      "file =  ./FilteredData/55.h5  with min length interval =  61\n",
      "file =  ./FilteredData/56.h5  with min length interval =  74\n",
      "file =  ./FilteredData/57.h5  with min length interval =  34\n",
      "file =  ./FilteredData/58.h5  with min length interval =  121\n",
      "file =  ./FilteredData/59.h5  with min length interval =  146\n",
      "file =  ./FilteredData/60.h5  with min length interval =  151\n",
      "file =  ./FilteredData/61.h5  with min length interval =  49\n",
      "file =  ./FilteredData/62.h5  with min length interval =  34\n",
      "file =  ./FilteredData/63.h5  with min length interval =  135\n",
      "file =  ./FilteredData/64.h5  with min length interval =  147\n",
      "file =  ./FilteredData/65.h5  with min length interval =  16\n",
      "file =  ./FilteredData/66.h5  with min length interval =  152\n",
      "file =  ./FilteredData/67.h5  with min length interval =  59\n",
      "file =  ./FilteredData/68.h5  with min length interval =  51\n",
      "file =  ./FilteredData/69.h5  with min length interval =  56\n",
      "file =  ./FilteredData/70.h5  with min length interval =  65\n",
      "file =  ./FilteredData/71.h5  with min length interval =  135\n",
      "file =  ./FilteredData/72.h5  with min length interval =  149\n",
      "file =  ./FilteredData/73.h5  with min length interval =  64\n",
      "file =  ./FilteredData/74.h5  with min length interval =  58\n",
      "file =  ./FilteredData/75.h5  with min length interval =  73\n",
      "file =  ./FilteredData/76.h5  with min length interval =  28\n",
      "file =  ./FilteredData/77.h5  with min length interval =  50\n",
      "file =  ./FilteredData/78.h5  with min length interval =  145\n",
      "file =  ./FilteredData/79.h5  with min length interval =  141\n",
      "file =  ./FilteredData/80.h5  with min length interval =  64\n",
      "file =  ./FilteredData/81.h5  with min length interval =  100\n",
      "file =  ./FilteredData/82.h5  with min length interval =  146\n",
      "file =  ./FilteredData/83.h5  with min length interval =  92\n",
      "file =  ./FilteredData/84.h5  with min length interval =  101\n",
      "Min length interval =  13\n"
     ]
    }
   ],
   "source": [
    "#Найдем минимальную длину интервала, которая подойдет для точного прогнозирования данных\n",
    "file = FileAnalyzer(path + '0.h5')\n",
    "length_min_interval = file.get_min_length_intervals()\n",
    "length_min_intervals_from_files = []\n",
    "for i in range(1, count_files):\n",
    "    filename = path + str(i) + '.h5'\n",
    "    file = FileAnalyzer(filename)\n",
    "    min_length = file.get_min_length_intervals()\n",
    "    length_min_intervals_from_files.append(min_length)\n",
    "    print('file = ', filename, ' with min length interval = ', min_length)\n",
    "    if file.get_min_length_intervals() < length_min_interval:\n",
    "        length_min_interval = file.get_min_length_intervals()\n",
    "print('Min length interval = ', length_min_interval)"
   ]
  },
  {
   "cell_type": "code",
   "execution_count": 3,
   "metadata": {},
   "outputs": [
    {
     "data": {
      "text/plain": [
       "[<matplotlib.lines.Line2D at 0x10614cd0>]"
      ]
     },
     "execution_count": 3,
     "metadata": {},
     "output_type": "execute_result"
    },
    {
     "data": {
      "image/png": "[encoded data removed]",
      "text/plain": [
       "<Figure size 432x288 with 1 Axes>"
      ]
     },
     "metadata": {
      "needs_background": "light"
     },
     "output_type": "display_data"
    }
   ],
   "source": [
    "plt.plot(length_min_intervals_from_files)\n",
    "#График минимальных длин интервалов из полученных файлов\n",
    "#"
   ]
  },
  {
   "cell_type": "code",
   "execution_count": 4,
   "metadata": {},
   "outputs": [
    {
     "name": "stdout",
     "output_type": "stream",
     "text": [
      "Среднее полученного ряда:  81.88235294117646\n"
     ]
    }
   ],
   "source": [
    "average_series = sum(length_min_intervals_from_files)/count_files\n",
    "print('Среднее полученного ряда: ', average_series)"
   ]
  },
  {
   "cell_type": "code",
   "execution_count": 5,
   "metadata": {},
   "outputs": [
    {
     "name": "stdout",
     "output_type": "stream",
     "text": [
      "ERROR len track =  1  len interval =  10000000000.0\n",
      "ERROR len track =  1  len interval =  10000000000.0\n",
      "ERROR len track =  1  len interval =  10000000000.0\n",
      "count files =  33\n"
     ]
    }
   ],
   "source": [
    "count = 0\n",
    "for i in range(count_files):\n",
    "    filename = path + str(i) + '.h5'\n",
    "    file = FileAnalyzer(filename)\n",
    "    min_length = file.get_min_length_intervals()\n",
    "    if min_length > average_series:\n",
    "        count+=1\n",
    "print('count files = ', count)\n",
    "#Получили 33 файла из 85, что не очень положительно влияет на обучающую выборку\n",
    "#Попробуем взять медиану ряда"
   ]
  },
  {
   "cell_type": "code",
   "execution_count": 6,
   "metadata": {},
   "outputs": [
    {
     "name": "stdout",
     "output_type": "stream",
     "text": [
      "Медиана полученного ряда:  66\n"
     ]
    }
   ],
   "source": [
    "median_of_series = sorted(length_min_intervals_from_files)[42] # Взяли медиану ряда\n",
    "print('Медиана полученного ряда: ', median_of_series)"
   ]
  },
  {
   "cell_type": "code",
   "execution_count": 7,
   "metadata": {},
   "outputs": [
    {
     "name": "stdout",
     "output_type": "stream",
     "text": [
      "ERROR len track =  1  len interval =  10000000000.0\n",
      "ERROR len track =  1  len interval =  10000000000.0\n",
      "ERROR len track =  1  len interval =  10000000000.0\n",
      "Count good files =  42\n"
     ]
    }
   ],
   "source": [
    "count = 0\n",
    "good_files = []\n",
    "for i in range(count_files):\n",
    "    filename = path + str(i) + '.h5'\n",
    "    file = FileAnalyzer(filename)\n",
    "    min_length = file.get_min_length_intervals()\n",
    "    if min_length > median_of_series:\n",
    "        good_files.append(str(i)+'.h5')\n",
    "print('Count good files = ', len(good_files))\n",
    "#Здесь уже видим, что нам подходят 42 файла с минимальной длинной интервала 66.\n",
    "#Также три файла говорят о некорректности данных, хранящихся в них."
   ]
  },
  {
   "cell_type": "code",
   "execution_count": 8,
   "metadata": {},
   "outputs": [
    {
     "name": "stdout",
     "output_type": "stream",
     "text": [
      "['0.h5', '1.h5', '4.h5', '5.h5', '9.h5', '10.h5', '17.h5', '24.h5', '25.h5', '26.h5', '27.h5', '28.h5', '30.h5', '32.h5', '33.h5', '35.h5', '36.h5', '37.h5', '38.h5', '39.h5', '44.h5', '45.h5', '50.h5', '51.h5', '52.h5', '53.h5', '56.h5', '58.h5', '59.h5', '60.h5', '63.h5', '64.h5', '66.h5', '71.h5', '72.h5', '75.h5', '78.h5', '79.h5', '81.h5', '82.h5', '83.h5', '84.h5']\n"
     ]
    }
   ],
   "source": [
    "print(good_files)"
   ]
  },
  {
   "cell_type": "code",
   "execution_count": 9,
   "metadata": {},
   "outputs": [
    {
     "name": "stdout",
     "output_type": "stream",
     "text": [
      "ERROR len track =  1  len interval =  10000000000.0\n",
      "ERROR len track =  1  len interval =  10000000000.0\n",
      "ERROR len track =  1  len interval =  10000000000.0\n",
      "Всего интервалов во всех подходящих файлах:  5873\n"
     ]
    }
   ],
   "source": [
    "count_all_intervals = 0\n",
    "for filename in good_files:\n",
    "    file = FileAnalyzer(path + filename)\n",
    "    count_all_intervals += len(file.get_intervals())\n",
    "print('Всего интервалов во всех подходящих файлах: ', count_all_intervals)"
   ]
  },
  {
   "cell_type": "code",
   "execution_count": 10,
   "metadata": {},
   "outputs": [
    {
     "name": "stdout",
     "output_type": "stream",
     "text": [
      "80% =  4698.400000000001\n",
      "20% =  1174.6000000000001\n"
     ]
    }
   ],
   "source": [
    "print('80% = ', count_all_intervals * 0.8)\n",
    "print('20% = ', count_all_intervals * 0.2)\n",
    "#Имеем неплохое количество данных для обучения в виде интервалов"
   ]
  },
  {
   "cell_type": "code",
   "execution_count": 11,
   "metadata": {},
   "outputs": [
    {
     "ename": "AttributeError",
     "evalue": "'numpy.ndarray' object has no attribute 'keys'",
     "output_type": "error",
     "traceback": [
      "\u001b[1;31m---------------------------------------------------------------------------\u001b[0m",
      "\u001b[1;31mAttributeError\u001b[0m                            Traceback (most recent call last)",
      "\u001b[1;32m<ipython-input-11-10cee8bd90bd>\u001b[0m in \u001b[0;36m<module>\u001b[1;34m\u001b[0m\n\u001b[0;32m      5\u001b[0m     \u001b[0mid_begin_interval\u001b[0m \u001b[1;33m=\u001b[0m \u001b[0mcount_intervals\u001b[0m \u001b[1;33m*\u001b[0m \u001b[0mid_file\u001b[0m\u001b[1;33m\u001b[0m\u001b[1;33m\u001b[0m\u001b[0m\n\u001b[0;32m      6\u001b[0m     \u001b[0mid_file\u001b[0m \u001b[1;33m+=\u001b[0m \u001b[1;36m1\u001b[0m\u001b[1;33m\u001b[0m\u001b[1;33m\u001b[0m\u001b[0m\n\u001b[1;32m----> 7\u001b[1;33m     \u001b[0mfile\u001b[0m\u001b[1;33m.\u001b[0m\u001b[0mtrim_intervals_and_save\u001b[0m\u001b[1;33m(\u001b[0m\u001b[0mid_begin_interval\u001b[0m\u001b[1;33m,\u001b[0m \u001b[1;36m66\u001b[0m\u001b[1;33m)\u001b[0m\u001b[1;33m\u001b[0m\u001b[1;33m\u001b[0m\u001b[0m\n\u001b[0m",
      "\u001b[1;32md:\\coursework\\Analyzer.py\u001b[0m in \u001b[0;36mtrim_intervals_and_save\u001b[1;34m(self, id_begin_interval, min_length_interval)\u001b[0m\n\u001b[0;32m    219\u001b[0m             \u001b[0mfilename\u001b[0m \u001b[1;33m=\u001b[0m \u001b[0mPATH\u001b[0m \u001b[1;33m+\u001b[0m \u001b[0mstr\u001b[0m\u001b[1;33m(\u001b[0m\u001b[0m_id\u001b[0m\u001b[1;33m)\u001b[0m \u001b[1;33m+\u001b[0m\u001b[1;34m'.csv'\u001b[0m\u001b[1;33m\u001b[0m\u001b[1;33m\u001b[0m\u001b[0m\n\u001b[0;32m    220\u001b[0m             \u001b[0m_id\u001b[0m \u001b[1;33m+=\u001b[0m \u001b[1;36m1\u001b[0m\u001b[1;33m\u001b[0m\u001b[1;33m\u001b[0m\u001b[0m\n\u001b[1;32m--> 221\u001b[1;33m             \u001b[0minterval\u001b[0m\u001b[1;33m.\u001b[0m\u001b[0msave_to_csv\u001b[0m\u001b[1;33m(\u001b[0m\u001b[0mfilename\u001b[0m\u001b[1;33m)\u001b[0m\u001b[1;33m\u001b[0m\u001b[1;33m\u001b[0m\u001b[0m\n\u001b[0m\u001b[0;32m    222\u001b[0m \u001b[1;33m\u001b[0m\u001b[0m\n",
      "\u001b[1;32md:\\coursework\\Analyzer.py\u001b[0m in \u001b[0;36msave_to_csv\u001b[1;34m(self, filename)\u001b[0m\n\u001b[0;32m     95\u001b[0m             \u001b[0mdata\u001b[0m \u001b[1;33m=\u001b[0m \u001b[0mlist\u001b[0m\u001b[1;33m(\u001b[0m\u001b[0mnp\u001b[0m\u001b[1;33m.\u001b[0m\u001b[0mhstack\u001b[0m\u001b[1;33m(\u001b[0m\u001b[1;33m(\u001b[0m\u001b[0mdata\u001b[0m\u001b[1;33m,\u001b[0m \u001b[0mnp\u001b[0m\u001b[1;33m.\u001b[0m\u001b[0matleast_2d\u001b[0m\u001b[1;33m(\u001b[0m\u001b[0mself\u001b[0m\u001b[1;33m.\u001b[0m\u001b[0mfd\u001b[0m\u001b[1;33m)\u001b[0m\u001b[1;33m)\u001b[0m\u001b[1;33m)\u001b[0m\u001b[1;33m)\u001b[0m\u001b[1;33m\u001b[0m\u001b[1;33m\u001b[0m\u001b[0m\n\u001b[0;32m     96\u001b[0m             \u001b[1;32mfor\u001b[0m \u001b[0mrow\u001b[0m \u001b[1;32min\u001b[0m \u001b[0mdata\u001b[0m\u001b[1;33m:\u001b[0m\u001b[1;33m\u001b[0m\u001b[1;33m\u001b[0m\u001b[0m\n\u001b[1;32m---> 97\u001b[1;33m                 \u001b[0mwriter\u001b[0m\u001b[1;33m.\u001b[0m\u001b[0mwriterow\u001b[0m\u001b[1;33m(\u001b[0m\u001b[0mrow\u001b[0m\u001b[1;33m)\u001b[0m\u001b[1;33m\u001b[0m\u001b[1;33m\u001b[0m\u001b[0m\n\u001b[0m\u001b[0;32m     98\u001b[0m \u001b[1;33m\u001b[0m\u001b[0m\n\u001b[0;32m     99\u001b[0m \u001b[1;31m# 'Fp1', 'Fpz', 'Fp2', 'F7', 'F3', 'Fz', 'F4', 'F8', 'T3', 'C3', 'Cz', 'C4', 'T4', 'T5', 'P3', 'Pz', 'P4', 'T6', 'O1', 'Oz', 'O2'\u001b[0m\u001b[1;33m\u001b[0m\u001b[1;33m\u001b[0m\u001b[1;33m\u001b[0m\u001b[0m\n",
      "\u001b[1;32md:\\python\\lib\\csv.py\u001b[0m in \u001b[0;36mwriterow\u001b[1;34m(self, rowdict)\u001b[0m\n\u001b[0;32m    152\u001b[0m \u001b[1;33m\u001b[0m\u001b[0m\n\u001b[0;32m    153\u001b[0m     \u001b[1;32mdef\u001b[0m \u001b[0mwriterow\u001b[0m\u001b[1;33m(\u001b[0m\u001b[0mself\u001b[0m\u001b[1;33m,\u001b[0m \u001b[0mrowdict\u001b[0m\u001b[1;33m)\u001b[0m\u001b[1;33m:\u001b[0m\u001b[1;33m\u001b[0m\u001b[1;33m\u001b[0m\u001b[0m\n\u001b[1;32m--> 154\u001b[1;33m         \u001b[1;32mreturn\u001b[0m \u001b[0mself\u001b[0m\u001b[1;33m.\u001b[0m\u001b[0mwriter\u001b[0m\u001b[1;33m.\u001b[0m\u001b[0mwriterow\u001b[0m\u001b[1;33m(\u001b[0m\u001b[0mself\u001b[0m\u001b[1;33m.\u001b[0m\u001b[0m_dict_to_list\u001b[0m\u001b[1;33m(\u001b[0m\u001b[0mrowdict\u001b[0m\u001b[1;33m)\u001b[0m\u001b[1;33m)\u001b[0m\u001b[1;33m\u001b[0m\u001b[1;33m\u001b[0m\u001b[0m\n\u001b[0m\u001b[0;32m    155\u001b[0m \u001b[1;33m\u001b[0m\u001b[0m\n\u001b[0;32m    156\u001b[0m     \u001b[1;32mdef\u001b[0m \u001b[0mwriterows\u001b[0m\u001b[1;33m(\u001b[0m\u001b[0mself\u001b[0m\u001b[1;33m,\u001b[0m \u001b[0mrowdicts\u001b[0m\u001b[1;33m)\u001b[0m\u001b[1;33m:\u001b[0m\u001b[1;33m\u001b[0m\u001b[1;33m\u001b[0m\u001b[0m\n",
      "\u001b[1;32md:\\python\\lib\\csv.py\u001b[0m in \u001b[0;36m_dict_to_list\u001b[1;34m(self, rowdict)\u001b[0m\n\u001b[0;32m    145\u001b[0m     \u001b[1;32mdef\u001b[0m \u001b[0m_dict_to_list\u001b[0m\u001b[1;33m(\u001b[0m\u001b[0mself\u001b[0m\u001b[1;33m,\u001b[0m \u001b[0mrowdict\u001b[0m\u001b[1;33m)\u001b[0m\u001b[1;33m:\u001b[0m\u001b[1;33m\u001b[0m\u001b[1;33m\u001b[0m\u001b[0m\n\u001b[0;32m    146\u001b[0m         \u001b[1;32mif\u001b[0m \u001b[0mself\u001b[0m\u001b[1;33m.\u001b[0m\u001b[0mextrasaction\u001b[0m \u001b[1;33m==\u001b[0m \u001b[1;34m\"raise\"\u001b[0m\u001b[1;33m:\u001b[0m\u001b[1;33m\u001b[0m\u001b[1;33m\u001b[0m\u001b[0m\n\u001b[1;32m--> 147\u001b[1;33m             \u001b[0mwrong_fields\u001b[0m \u001b[1;33m=\u001b[0m \u001b[0mrowdict\u001b[0m\u001b[1;33m.\u001b[0m\u001b[0mkeys\u001b[0m\u001b[1;33m(\u001b[0m\u001b[1;33m)\u001b[0m \u001b[1;33m-\u001b[0m \u001b[0mself\u001b[0m\u001b[1;33m.\u001b[0m\u001b[0mfieldnames\u001b[0m\u001b[1;33m\u001b[0m\u001b[1;33m\u001b[0m\u001b[0m\n\u001b[0m\u001b[0;32m    148\u001b[0m             \u001b[1;32mif\u001b[0m \u001b[0mwrong_fields\u001b[0m\u001b[1;33m:\u001b[0m\u001b[1;33m\u001b[0m\u001b[1;33m\u001b[0m\u001b[0m\n\u001b[0;32m    149\u001b[0m                 raise ValueError(\"dict contains fields not in fieldnames: \"\n",
      "\u001b[1;31mAttributeError\u001b[0m: 'numpy.ndarray' object has no attribute 'keys'"
     ]
    }
   ],
   "source": [
    "id_file = 0\n",
    "for filename in good_files:\n",
    "    file = FileAnalyzer(path + filename)\n",
    "    count_intervals = len(file.get_intervals())\n",
    "    id_begin_interval = count_intervals * id_file\n",
    "    id_file += 1\n",
    "    file.trim_intervals_and_save(id_begin_interval, 66)"
   ]
  },
  {
   "cell_type": "code",
   "execution_count": null,
   "metadata": {},
   "outputs": [],
   "source": []
  }
 ],
 "metadata": {
  "kernelspec": {
   "display_name": "Python 3",
   "language": "python",
   "name": "python3"
  },
  "language_info": {
   "codemirror_mode": {
    "name": "ipython",
    "version": 3
   },
   "file_extension": ".py",
   "mimetype": "text/x-python",
   "name": "python",
   "nbconvert_exporter": "python",
   "pygments_lexer": "ipython3",
   "version": "3.8.0"
  }
 },
 "nbformat": 4,
 "nbformat_minor": 4
}
