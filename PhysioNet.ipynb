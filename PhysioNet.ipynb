{
  "nbformat": 4,
  "nbformat_minor": 0,
  "metadata": {
    "colab": {
      "name": "PhysioNet.ipynb",
      "provenance": [],
      "collapsed_sections": []
    },
    "kernelspec": {
      "name": "python3",
      "display_name": "Python 3"
    }
  },
  "cells": [
    {
      "cell_type": "code",
      "metadata": {
        "id": "5eFo4NAchKM9",
        "colab_type": "code",
        "outputId": "af148819-2268-478c-e9eb-bfef24127ed6",
        "colab": {
          "base_uri": "https://localhost:8080/",
          "height": 68
        }
      },
      "source": [
        "!pip install torch"
      ],
      "execution_count": 0,
      "outputs": [
        {
          "output_type": "stream",
          "text": [
            "Requirement already satisfied: torch in /usr/local/lib/python3.6/dist-packages (1.5.0+cu101)\n",
            "Requirement already satisfied: numpy in /usr/local/lib/python3.6/dist-packages (from torch) (1.18.4)\n",
            "Requirement already satisfied: future in /usr/local/lib/python3.6/dist-packages (from torch) (0.16.0)\n"
          ],
          "name": "stdout"
        }
      ]
    },
    {
      "cell_type": "code",
      "metadata": {
        "id": "80AexB3iiCkH",
        "colab_type": "code",
        "colab": {}
      },
      "source": [
        "import torch\n",
        "import random\n",
        "import numpy as np\n",
        "import pandas as pd\n",
        "random.seed(0)\n",
        "np.random.seed(0)\n",
        "torch.manual_seed(0)\n",
        "torch.cuda.manual_seed(0)\n",
        "torch.backends.cudnn.deterministic = True"
      ],
      "execution_count": 0,
      "outputs": []
    },
    {
      "cell_type": "code",
      "metadata": {
        "id": "kVdA1PrVsRev",
        "colab_type": "code",
        "colab": {}
      },
      "source": [
        "from google.colab import drive\n",
        "path = '/content/drive/My Drive/dataset'"
      ],
      "execution_count": 0,
      "outputs": []
    },
    {
      "cell_type": "code",
      "metadata": {
        "id": "-55lIOABsXIc",
        "colab_type": "code",
        "outputId": "44b5d97c-c51d-406c-d496-9082e3ffcec7",
        "colab": {
          "base_uri": "https://localhost:8080/",
          "height": 34
        }
      },
      "source": [
        "!ls '/content/drive/My Drive/dataset'"
      ],
      "execution_count": 0,
      "outputs": [
        {
          "output_type": "stream",
          "text": [
            "test  train\n"
          ],
          "name": "stdout"
        }
      ]
    },
    {
      "cell_type": "code",
      "metadata": {
        "id": "bqJxfhd_mEQy",
        "colab_type": "code",
        "colab": {}
      },
      "source": [
        "import torch.nn as nn\n",
        "class PhysioNet(nn.Module):\n",
        "\n",
        "    def __init__(self):\n",
        "        super(PhysioNet, self).__init__()\n",
        "\n",
        "        self.batch_norm0 = torch.nn.BatchNorm2d(1)\n",
        "        self.conv1 = torch.nn.Conv2d(in_channels=1, out_channels=4, kernel_size=(5,4), padding=1, stride=1)\n",
        "        self.act1 = torch.nn.LeakyReLU()\n",
        "        self.batch_norm1 = torch.nn.BatchNorm2d(4)\n",
        "        #self.pool1 = torch.nn.MaxPool2d(kernel_size=2, stride=2)\n",
        "\n",
        "\n",
        "        self.conv2 = torch.nn.Conv2d(in_channels=4, out_channels=8, kernel_size=(5,3), padding=1, stride=1)\n",
        "        self.act2 = torch.nn.LeakyReLU()\n",
        "\n",
        "        self.conv3 = torch.nn.Conv2d(in_channels=8, out_channels=16, kernel_size=(5,3), padding=1, stride=1)\n",
        "        self.act3 = torch.nn.LeakyReLU()\n",
        "        self.batch_norm2 = torch.nn.BatchNorm2d(16)\n",
        "\n",
        "        self.conv4 = torch.nn.Conv2d(in_channels=16, out_channels=20, kernel_size=(7,3), padding=1, stride=1)\n",
        "        self.act4 = torch.nn.LeakyReLU()\n",
        "        self.batch_norm3 = torch.nn.BatchNorm2d(20)\n",
        "        self.pool1 = torch.nn.MaxPool2d(kernel_size=2, stride=2)\n",
        "\n",
        "        self.conv5 = torch.nn.Conv2d(in_channels=20, out_channels=30, kernel_size=(4,3), padding=1, stride=1)\n",
        "        self.act5 = torch.nn.LeakyReLU()\n",
        "        self.batch_norm4 = torch.nn.BatchNorm2d(30)\n",
        "        self.pool2 = torch.nn.MaxPool2d(kernel_size=2, stride=2)\n",
        "\n",
        "        self.fc1 = torch.nn.Linear(13*5 * 30, 100)\n",
        "        self.act4 = torch.nn.LeakyReLU()\n",
        "        \n",
        "        self.fc2 = torch.nn.Linear(100, 50)\n",
        "        self.act5 = torch.nn.LeakyReLU()\n",
        "\n",
        "        self.fc3 = torch.nn.Linear(50, 20)\n",
        "        self.act6 = torch.nn.LeakyReLU()\n",
        "        \n",
        "        self.fc4 = torch.nn.Linear(20, 1)\n",
        "    \n",
        "    def forward(self, x):\n",
        "        x = self.batch_norm0(x)\n",
        "        x = self.conv1(x)\n",
        "        x = self.act1(x)\n",
        "        x = self.batch_norm1(x)\n",
        "\n",
        "        #x = self.pool1(x)\n",
        "        x = self.conv2(x)\n",
        "        x = self.act2(x)\n",
        "\n",
        "        x = self.conv3(x)\n",
        "        x = self.act3(x)\n",
        "        x = self.batch_norm2(x)\n",
        "\n",
        "        x = self.conv4(x)\n",
        "        x = self.act4(x)\n",
        "        x = self.batch_norm3(x)\n",
        "        x = self.pool1(x)\n",
        "\n",
        "        x = self.conv5(x)\n",
        "        x = self.act5(x)\n",
        "        x = self.batch_norm4(x)\n",
        "        x = self.pool2(x)\n",
        "\n",
        "        x = x.view(x.size(0), x.size(1) * x.size(2) * x.size(3))\n",
        "        x = self.fc1(x)\n",
        "        x = self.act4(x)\n",
        "        x = self.fc2(x)\n",
        "        x = self.act5(x)\n",
        "        x = self.fc3(x)\n",
        "        x = self.act5(x)\n",
        "        x = self.fc4(x)\n",
        "        return x"
      ],
      "execution_count": 0,
      "outputs": []
    },
    {
      "cell_type": "code",
      "metadata": {
        "id": "uBaYzH9NtXmy",
        "colab_type": "code",
        "outputId": "42f93bc6-b85f-480d-a48d-4b4282829d17",
        "colab": {
          "base_uri": "https://localhost:8080/",
          "height": 646
        }
      },
      "source": [
        "from torchsummary import summary\n",
        "import sklearn.preprocessing as preprocessing\n",
        "physionet = PhysioNet()\n",
        "summary(physionet, (1, 64, 21))"
      ],
      "execution_count": 0,
      "outputs": [
        {
          "output_type": "stream",
          "text": [
            "----------------------------------------------------------------\n",
            "        Layer (type)               Output Shape         Param #\n",
            "================================================================\n",
            "       BatchNorm2d-1            [-1, 1, 64, 21]               2\n",
            "            Conv2d-2            [-1, 4, 62, 20]              84\n",
            "         LeakyReLU-3            [-1, 4, 62, 20]               0\n",
            "       BatchNorm2d-4            [-1, 4, 62, 20]               8\n",
            "            Conv2d-5            [-1, 8, 60, 20]             488\n",
            "         LeakyReLU-6            [-1, 8, 60, 20]               0\n",
            "            Conv2d-7           [-1, 16, 58, 20]           1,936\n",
            "         LeakyReLU-8           [-1, 16, 58, 20]               0\n",
            "       BatchNorm2d-9           [-1, 16, 58, 20]              32\n",
            "           Conv2d-10           [-1, 20, 54, 20]           6,740\n",
            "        LeakyReLU-11           [-1, 20, 54, 20]               0\n",
            "      BatchNorm2d-12           [-1, 20, 54, 20]              40\n",
            "        MaxPool2d-13           [-1, 20, 27, 10]               0\n",
            "           Conv2d-14           [-1, 30, 26, 10]           7,230\n",
            "        LeakyReLU-15           [-1, 30, 26, 10]               0\n",
            "      BatchNorm2d-16           [-1, 30, 26, 10]              60\n",
            "        MaxPool2d-17            [-1, 30, 13, 5]               0\n",
            "           Linear-18                  [-1, 100]         195,100\n",
            "        LeakyReLU-19                  [-1, 100]               0\n",
            "           Linear-20                   [-1, 50]           5,050\n",
            "        LeakyReLU-21                   [-1, 50]               0\n",
            "           Linear-22                   [-1, 20]           1,020\n",
            "        LeakyReLU-23                   [-1, 20]               0\n",
            "           Linear-24                    [-1, 1]              21\n",
            "================================================================\n",
            "Total params: 217,811\n",
            "Trainable params: 217,811\n",
            "Non-trainable params: 0\n",
            "----------------------------------------------------------------\n",
            "Input size (MB): 0.01\n",
            "Forward/backward pass size (MB): 1.43\n",
            "Params size (MB): 0.83\n",
            "Estimated Total Size (MB): 2.26\n",
            "----------------------------------------------------------------\n"
          ],
          "name": "stdout"
        }
      ]
    },
    {
      "cell_type": "code",
      "metadata": {
        "id": "HYlOPA4gfekD",
        "colab_type": "code",
        "outputId": "e0f49882-eb38-439b-95b6-a2ff7da6edeb",
        "colab": {
          "base_uri": "https://localhost:8080/",
          "height": 34
        }
      },
      "source": [
        "Y_train = pd.read_csv(\"/content/drive/My Drive/dataset/train/y.csv\", delimiter=\";\")\n",
        "Y_train = np.array(Y_train.drop([\"0.5010000000000012\"],axis=1))\n",
        "Y_train[0].item() < 5"
      ],
      "execution_count": 0,
      "outputs": [
        {
          "output_type": "execute_result",
          "data": {
            "text/plain": [
              "False"
            ]
          },
          "metadata": {
            "tags": []
          },
          "execution_count": 7
        }
      ]
    },
    {
      "cell_type": "code",
      "metadata": {
        "id": "YIjx-tyZj0jf",
        "colab_type": "code",
        "outputId": "f89ed31d-48d4-4dad-afd7-5f839b9d57bb",
        "colab": {
          "base_uri": "https://localhost:8080/",
          "height": 170
        }
      },
      "source": [
        "good_y_train = []\n",
        "good_train_index = []\n",
        "for i in range(len(Y_train)):\n",
        "  if (Y_train[i].item() > 1 and Y_train[i].item() < 100):\n",
        "    good_y_train.append(Y_train[i].item())\n",
        "    good_train_index.append(i)\n",
        "good_y_train = np.array(good_y_train)\n",
        "print(good_y_train)\n",
        "good_y_train =  good_y_train / np.linalg.norm(good_y_train)\n",
        "#good_y_train = preprocessing.normalize(good_y_train, norm = 'l1')\n",
        "good_y_train = torch.tensor(good_y_train.reshape(-1,1))\n",
        "print(good_y_train)"
      ],
      "execution_count": 0,
      "outputs": [
        {
          "output_type": "stream",
          "text": [
            "[59.74662354 36.68359362 17.79359431 ... 20.08444291 16.77621435\n",
            " 31.34796238]\n",
            "tensor([[0.0655],\n",
            "        [0.0402],\n",
            "        [0.0195],\n",
            "        ...,\n",
            "        [0.0220],\n",
            "        [0.0184],\n",
            "        [0.0344]], dtype=torch.float64)\n"
          ],
          "name": "stdout"
        }
      ]
    },
    {
      "cell_type": "code",
      "metadata": {
        "id": "VuwaxWmPy2F1",
        "colab_type": "code",
        "colab": {}
      },
      "source": [
        "device = torch.device('cuda:0' if torch.cuda.is_available() else 'cpu')\n",
        "physionet = physionet.to(device)\n",
        "#for param in physionet.parameters():\n",
        "#    param.requires_grad = False"
      ],
      "execution_count": 0,
      "outputs": []
    },
    {
      "cell_type": "code",
      "metadata": {
        "id": "AiUMwzja03S6",
        "colab_type": "code",
        "colab": {}
      },
      "source": [
        "#loss = torch.nn.MSELoss()\n",
        "optimizer = torch.optim.Adam(physionet.parameters(), lr=1.0e-3)\n",
        "def loss(pred, target):\n",
        "    squares = (pred - target) ** 2\n",
        "    return squares.mean()"
      ],
      "execution_count": 0,
      "outputs": []
    },
    {
      "cell_type": "code",
      "metadata": {
        "id": "queqyrMbaFtp",
        "colab_type": "code",
        "colab": {}
      },
      "source": [
        "y_test = pd.read_csv(\"/content/drive/My Drive/dataset/test/y.csv\", delimiter=\";\")\n",
        "y_test = np.array(y_test.drop([\"0.7650000000001\"],axis=1))\n",
        "#y_test = preprocessing.normalize(y_test, norm = 'l1')\n",
        "good_y_test = []\n",
        "good_test_index = []\n",
        "\n",
        "for i in range(len(y_test)):\n",
        "  if (y_test[i].item() > 1 or y_test[i].item() < 100):\n",
        "    good_test_index.append(i)\n",
        "    good_y_test.append(y_test[i].item())\n",
        "\n",
        "good_y_test = np.array(good_y_test)\n",
        "good_y_test =  good_y_test / np.linalg.norm(good_y_test)\n",
        "good_y_test = torch.tensor(good_y_test.reshape(-1,1))\n",
        "\n",
        "x_test = []\n",
        "for i in good_test_index:\n",
        "  x = pd.read_csv(\"/content/drive/My Drive/dataset/test/{}.csv\".format(i), delimiter=\";\")\n",
        "  x = np.array(x)[:-1]\n",
        "  x = np.delete(x.reshape(64,24),23,1)\n",
        "  x = np.delete(x.reshape(64,23),22,1)\n",
        "  x = np.delete(x.reshape(64,22),21,1)\n",
        "  x = preprocessing.normalize(x, norm = 'l2')\n",
        "  x_test.append(x)\n",
        "x_test = torch.tensor(x_test)"
      ],
      "execution_count": 0,
      "outputs": []
    },
    {
      "cell_type": "code",
      "metadata": {
        "id": "6WSm4m2jnH2z",
        "colab_type": "code",
        "colab": {}
      },
      "source": [
        "x_train = []\n",
        "for file in good_train_index:\n",
        "  x = np.array(pd.read_csv(\"/content/drive/My Drive/dataset/train/{}.csv\".format(file), delimiter=\";\"))[:-1]\n",
        "  x = np.delete(x.reshape(64,24),23,1)\n",
        "  x = np.delete(x.reshape(64,23),22,1)\n",
        "  x = np.delete(x.reshape(64,22),21,1)\n",
        "  x = preprocessing.normalize(x, norm = 'l2')\n",
        "  x_train.append(x)\n",
        "\n",
        "x_train = torch.tensor(x_train)"
      ],
      "execution_count": 0,
      "outputs": []
    },
    {
      "cell_type": "code",
      "metadata": {
        "id": "GdaaW4BF3Lks",
        "colab_type": "code",
        "colab": {}
      },
      "source": [
        ""
      ],
      "execution_count": 0,
      "outputs": []
    },
    {
      "cell_type": "code",
      "metadata": {
        "id": "dC1OChEI0-7Q",
        "colab_type": "code",
        "outputId": "8edc3718-eeed-4754-9375-b1b5ad031cd6",
        "colab": {
          "base_uri": "https://localhost:8080/",
          "height": 867
        }
      },
      "source": [
        "test_accuracy_history = []\n",
        "test_loss_history = []\n",
        "\n",
        "\n",
        "len_x_train = len(x_train)\n",
        "batch_size = 100\n",
        "for epoch in range(50):\n",
        "    order = np.random.permutation(len_x_train)\n",
        "    for start_index in range(0, len_x_train, batch_size):\n",
        "        optimizer.zero_grad()\n",
        "        \n",
        "        batch_indexes = order[start_index:start_index+batch_size]\n",
        "\n",
        "        x_batch = x_train[batch_indexes].to(device)\n",
        "        y_batch = good_y_train[batch_indexes].to(device)\n",
        "\n",
        "        preds = physionet.forward(x_batch.unsqueeze(1).float())\n",
        "        loss_value = loss(preds.float(),y_batch.float())\n",
        "        loss_value.backward()\n",
        "        \n",
        "        optimizer.step()\n",
        "    \n",
        "    test_preds = physionet.forward(x_test.unsqueeze(1).float())\n",
        "    loss_ac = loss(test_preds.float(), good_y_test.float())\n",
        "    test_loss_history.append(loss_ac)#.data.cpu())\n",
        "    \n",
        "    print('{}\\t|\\t{:10.8f}}'.format(epoch, loss_ac))"
      ],
      "execution_count": 0,
      "outputs": [
        {
          "output_type": "stream",
          "text": [
            "0\t|\t0.00241920\t|\t0.99758083\n",
            "1\t|\t0.00205316\t|\t0.99794686\n",
            "2\t|\t0.00207724\t|\t0.99792278\n",
            "3\t|\t0.00209959\t|\t0.99790043\n",
            "4\t|\t0.00213038\t|\t0.99786961\n",
            "5\t|\t0.00211914\t|\t0.99788088\n",
            "6\t|\t0.00210858\t|\t0.99789143\n",
            "7\t|\t0.00217029\t|\t0.99782974\n",
            "8\t|\t0.00225947\t|\t0.99774051\n",
            "9\t|\t0.00226387\t|\t0.99773616\n",
            "10\t|\t0.00235813\t|\t0.99764186\n",
            "11\t|\t0.00214054\t|\t0.99785948\n",
            "12\t|\t0.00240329\t|\t0.99759668\n",
            "13\t|\t0.00222636\t|\t0.99777365\n",
            "14\t|\t0.00216542\t|\t0.99783456\n",
            "15\t|\t0.00246974\t|\t0.99753028\n",
            "16\t|\t0.00217951\t|\t0.99782050\n",
            "17\t|\t0.00218796\t|\t0.99781203\n",
            "18\t|\t0.00226830\t|\t0.99773169\n",
            "19\t|\t0.00229373\t|\t0.99770629\n",
            "20\t|\t0.00229387\t|\t0.99770612\n",
            "21\t|\t0.00217052\t|\t0.99782950\n",
            "22\t|\t0.00219401\t|\t0.99780601\n",
            "23\t|\t0.00233199\t|\t0.99766803\n",
            "24\t|\t0.00215273\t|\t0.99784726\n",
            "25\t|\t0.00217172\t|\t0.99782830\n",
            "26\t|\t0.00206901\t|\t0.99793100\n",
            "27\t|\t0.00216128\t|\t0.99783874\n",
            "28\t|\t0.00221078\t|\t0.99778920\n",
            "29\t|\t0.00223876\t|\t0.99776125\n",
            "30\t|\t0.00219085\t|\t0.99780917\n",
            "31\t|\t0.00216995\t|\t0.99783003\n",
            "32\t|\t0.00221377\t|\t0.99778622\n",
            "33\t|\t0.00211612\t|\t0.99788386\n",
            "34\t|\t0.00217826\t|\t0.99782175\n",
            "35\t|\t0.00213572\t|\t0.99786431\n",
            "36\t|\t0.00215558\t|\t0.99784440\n",
            "37\t|\t0.00221698\t|\t0.99778301\n",
            "38\t|\t0.00215153\t|\t0.99784845\n",
            "39\t|\t0.00220718\t|\t0.99779284\n",
            "40\t|\t0.00216670\t|\t0.99783331\n",
            "41\t|\t0.00222452\t|\t0.99777550\n",
            "42\t|\t0.00222037\t|\t0.99777961\n",
            "43\t|\t0.00216218\t|\t0.99783784\n",
            "44\t|\t0.00234611\t|\t0.99765390\n",
            "45\t|\t0.00230523\t|\t0.99769479\n",
            "46\t|\t0.00224420\t|\t0.99775583\n",
            "47\t|\t0.00229692\t|\t0.99770308\n",
            "48\t|\t0.00216949\t|\t0.99783051\n",
            "49\t|\t0.00225132\t|\t0.99774867\n"
          ],
          "name": "stdout"
        }
      ]
    },
    {
      "cell_type": "code",
      "metadata": {
        "id": "MQv2va8deecv",
        "colab_type": "code",
        "outputId": "40120bc2-77c5-426b-bcd3-8c81aaa4f204",
        "colab": {
          "base_uri": "https://localhost:8080/",
          "height": 296
        }
      },
      "source": [
        "import matplotlib.pyplot as plt\n",
        "x = physionet.forward(x_test.unsqueeze(1).float())\n",
        "plt.plot(good_y_test.numpy(), 'o', label='Groud truth')\n",
        "plt.plot(x.data.numpy(), 'o', c='r', label='Prediction');\n",
        "plt.legend(loc='upper left')\n",
        "plt.xlabel('$x$')\n",
        "plt.ylabel('$y$')"
      ],
      "execution_count": 0,
      "outputs": [
        {
          "output_type": "execute_result",
          "data": {
            "text/plain": [
              "Text(0, 0.5, '$y$')"
            ]
          },
          "metadata": {
            "tags": []
          },
          "execution_count": 14
        },
        {
          "output_type": "display_data",
          "data": {
            "image/png": "[encoded data removed]",
            "text/plain": [
              "<Figure size 432x288 with 1 Axes>"
            ]
          },
          "metadata": {
            "tags": [],
            "needs_background": "light"
          }
        }
      ]
    },
    {
      "cell_type": "code",
      "metadata": {
        "id": "3agdQq4_o5G6",
        "colab_type": "code",
        "outputId": "33f9e04f-23b7-4f3a-e73a-af3558ea908a",
        "colab": {
          "base_uri": "https://localhost:8080/",
          "height": 282
        }
      },
      "source": [
        "plt.plot(test_loss_history)"
      ],
      "execution_count": 0,
      "outputs": [
        {
          "output_type": "execute_result",
          "data": {
            "text/plain": [
              "[<matplotlib.lines.Line2D at 0x7f68cf285828>]"
            ]
          },
          "metadata": {
            "tags": []
          },
          "execution_count": 15
        },
        {
          "output_type": "display_data",
          "data": {
            "image/png": "[encoded data removed]",
            "text/plain": [
              "<Figure size 432x288 with 1 Axes>"
            ]
          },
          "metadata": {
            "tags": [],
            "needs_background": "light"
          }
        }
      ]
    },
    {
      "cell_type": "code",
      "metadata": {
        "id": "X2CuYqmC_zCI",
        "colab_type": "code",
        "colab": {}
      },
      "source": [
        "accuracy = np.ones(len(test_loss_history)) - test_loss_history"
      ],
      "execution_count": 0,
      "outputs": []
    },
    {
      "cell_type": "code",
      "metadata": {
        "id": "Gvg2l5EkULDW",
        "colab_type": "code",
        "outputId": "84b3b71a-5c10-43b7-a5b8-e422d5e1f18c",
        "colab": {
          "base_uri": "https://localhost:8080/",
          "height": 282
        }
      },
      "source": [
        "plt.plot(accuracy)"
      ],
      "execution_count": 0,
      "outputs": [
        {
          "output_type": "execute_result",
          "data": {
            "text/plain": [
              "[<matplotlib.lines.Line2D at 0x7f68c23014a8>]"
            ]
          },
          "metadata": {
            "tags": []
          },
          "execution_count": 17
        },
        {
          "output_type": "display_data",
          "data": {
            "image/png": "[encoded data removed]",
            "text/plain": [
              "<Figure size 432x288 with 1 Axes>"
            ]
          },
          "metadata": {
            "tags": [],
            "needs_background": "light"
          }
        }
      ]
    },
    {
      "cell_type": "code",
      "metadata": {
        "id": "uS0zoHquUYGr",
        "colab_type": "code",
        "colab": {}
      },
      "source": [
        ""
      ],
      "execution_count": 0,
      "outputs": []
    }
  ]
}